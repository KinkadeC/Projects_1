{
 "cells": [
  {
   "cell_type": "code",
   "execution_count": 32,
   "metadata": {},
   "outputs": [],
   "source": [
    "#packages\n",
    "\n",
    "import os\n",
    "from pathlib import Path\n",
    "\n",
    "import csv\n",
    "import pandas as pd\n",
    "import datetime as DT \n",
    "import matplotlib.pyplot as plt\n",
    "import numpy as np\n",
    "\n",
    "from scipy import stats\n",
    "\n",
    "#regression\n",
    "from sklearn.linear_model import LogisticRegression\n",
    "from sklearn.model_selection import train_test_split\n",
    "from sklearn import metrics\n",
    "from sklearn.metrics import confusion_matrix\n",
    "\n",
    "#url tools, json pull\n",
    "import requests, json\n",
    "\n",
    "PATH = str(Path(os.getcwd()).parent)\n",
    "\n"
   ]
  },
  {
   "cell_type": "code",
   "execution_count": 30,
   "metadata": {},
   "outputs": [],
   "source": [
    "#read api_keys from local directory\n",
    "name = 'Riot'\n",
    "keys = pd.read_csv(\"C:/Users/kinka/Desktop/api_keys/112920_0245.txt\",header=None)\n",
    "api_key = keys[keys[0].isin([name])].iloc[0][1]"
   ]
  },
  {
   "cell_type": "code",
   "execution_count": 34,
   "metadata": {},
   "outputs": [],
   "source": [
    "#test summoner name lookup\n",
    "summoner_name='Corporate Banana'\n",
    "query = 'https://na1.api.riotgames.com/lol/summoner/v4/summoners/by-name/'+summoner_name+'?api_key=' + api_key\n",
    "data = json.loads(requests.get(query).text)"
   ]
  },
  {
   "cell_type": "code",
   "execution_count": 35,
   "metadata": {},
   "outputs": [
    {
     "data": {
      "text/plain": [
       "{'id': 'hZKNbcEL7As17Ws4Z9-G2yD4YIMmwUOG4gDczYLjYlN0S7c',\n",
       " 'accountId': 'E0KI5cF_sVF7jQYxOCrljIltuM7AG0lZ0D-0IGfKmVO1rQ',\n",
       " 'puuid': 'nVyYbNt-K-NPinCxi1AByQ-5X8cYtR1eWusDjFeyWq3g4wOt7I6tKQ0pqSe25SdSmrhYj9FXDB965g',\n",
       " 'name': 'Corporate Banana',\n",
       " 'profileIconId': 4077,\n",
       " 'revisionDate': 1605769411000,\n",
       " 'summonerLevel': 312}"
      ]
     },
     "execution_count": 35,
     "metadata": {},
     "output_type": "execute_result"
    }
   ],
   "source": [
    "data"
   ]
  },
  {
   "cell_type": "code",
   "execution_count": null,
   "metadata": {},
   "outputs": [],
   "source": []
  }
 ],
 "metadata": {
  "kernelspec": {
   "display_name": "Python 3",
   "language": "python",
   "name": "python3"
  },
  "language_info": {
   "codemirror_mode": {
    "name": "ipython",
    "version": 3
   },
   "file_extension": ".py",
   "mimetype": "text/x-python",
   "name": "python",
   "nbconvert_exporter": "python",
   "pygments_lexer": "ipython3",
   "version": "3.7.3"
  }
 },
 "nbformat": 4,
 "nbformat_minor": 2
}
