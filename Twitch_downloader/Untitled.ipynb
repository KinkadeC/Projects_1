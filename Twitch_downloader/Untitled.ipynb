{
 "cells": [
  {
   "cell_type": "code",
   "execution_count": 1,
   "metadata": {},
   "outputs": [
    {
     "name": "stdout",
     "output_type": "stream",
     "text": [
      "Collecting twitch-dl\n",
      "  Downloading https://files.pythonhosted.org/packages/7a/cf/93804d7f806a40f939a0bbbdb1e31a67c725ce34be192952a5454720c41e/twitch_dl-1.14.1-py3-none-any.whl\n",
      "Collecting m3u8<0.4,>=0.3.12 (from twitch-dl)\n",
      "  Downloading https://files.pythonhosted.org/packages/21/6c/2bf9158ba29d238a4d8ad64165c3c744f9bd1bcfbf270a00929b8d87e04b/m3u8-0.3.12-py3-none-any.whl\n",
      "Requirement already satisfied: requests<3.0,>=2.13 in c:\\users\\kinka\\anaconda3\\lib\\site-packages (from twitch-dl) (2.22.0)\n",
      "Collecting iso8601 (from m3u8<0.4,>=0.3.12->twitch-dl)\n",
      "  Downloading https://files.pythonhosted.org/packages/f5/c7/06b5938e79a09112a256f26a1ae0551b04bc6aafcb71fd7ee2390c2c54c6/iso8601-0.1.13-py2.py3-none-any.whl\n",
      "Requirement already satisfied: chardet<3.1.0,>=3.0.2 in c:\\users\\kinka\\anaconda3\\lib\\site-packages (from requests<3.0,>=2.13->twitch-dl) (3.0.4)\n",
      "Requirement already satisfied: urllib3!=1.25.0,!=1.25.1,<1.26,>=1.21.1 in c:\\users\\kinka\\anaconda3\\lib\\site-packages (from requests<3.0,>=2.13->twitch-dl) (1.24.2)\n",
      "Requirement already satisfied: idna<2.9,>=2.5 in c:\\users\\kinka\\anaconda3\\lib\\site-packages (from requests<3.0,>=2.13->twitch-dl) (2.8)\n",
      "Requirement already satisfied: certifi>=2017.4.17 in c:\\users\\kinka\\anaconda3\\lib\\site-packages (from requests<3.0,>=2.13->twitch-dl) (2020.6.20)\n",
      "Installing collected packages: iso8601, m3u8, twitch-dl\n",
      "Successfully installed iso8601-0.1.13 m3u8-0.3.12 twitch-dl-1.14.1\n"
     ]
    }
   ],
   "source": [
    "!pip install twitch-dl"
   ]
  },
  {
   "cell_type": "code",
   "execution_count": 3,
   "metadata": {},
   "outputs": [
    {
     "ename": "SyntaxError",
     "evalue": "invalid syntax (<ipython-input-3-2e0b1c2fe4a0>, line 1)",
     "output_type": "error",
     "traceback": [
      "\u001b[1;36m  File \u001b[1;32m\"<ipython-input-3-2e0b1c2fe4a0>\"\u001b[1;36m, line \u001b[1;32m1\u001b[0m\n\u001b[1;33m    import twitch-dl\u001b[0m\n\u001b[1;37m                 ^\u001b[0m\n\u001b[1;31mSyntaxError\u001b[0m\u001b[1;31m:\u001b[0m invalid syntax\n"
     ]
    }
   ],
   "source": [
    "import twitch-dl"
   ]
  },
  {
   "cell_type": "code",
   "execution_count": null,
   "metadata": {},
   "outputs": [],
   "source": []
  }
 ],
 "metadata": {
  "kernelspec": {
   "display_name": "Python 3",
   "language": "python",
   "name": "python3"
  },
  "language_info": {
   "codemirror_mode": {
    "name": "ipython",
    "version": 3
   },
   "file_extension": ".py",
   "mimetype": "text/x-python",
   "name": "python",
   "nbconvert_exporter": "python",
   "pygments_lexer": "ipython3",
   "version": "3.7.3"
  }
 },
 "nbformat": 4,
 "nbformat_minor": 2
}
